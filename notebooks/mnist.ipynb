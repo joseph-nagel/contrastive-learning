{
 "cells": [
  {
   "cell_type": "markdown",
   "metadata": {},
   "source": [
    "# Contrastive learning on MNIST\n",
    "\n",
    "An example of contrastive learning applied to MNIST is provided in this notebook. The model can be trained through `python scripts/main.py fit --config config/mnist.yaml`. Meanwhile one may want to monitor the experiment by `tensorboard --logdir run/`. After the training has been completed, the final model is imported and analyzed in the following."
   ]
  },
  {
   "cell_type": "code",
   "execution_count": null,
   "metadata": {},
   "outputs": [],
   "source": [
    "%load_ext autoreload\n",
    "%autoreload 2\n",
    "%matplotlib inline\n",
    "\n",
    "import sys\n",
    "sys.path.append('..')"
   ]
  },
  {
   "cell_type": "code",
   "execution_count": null,
   "metadata": {},
   "outputs": [],
   "source": [
    "import matplotlib.pyplot as plt\n",
    "import torch\n",
    "from lightning.pytorch import seed_everything\n",
    "\n",
    "from contralearn import (\n",
    "    MNISTDataModule,\n",
    "    ConvEmbedding,\n",
    "    embed_loader\n",
    ")"
   ]
  },
  {
   "cell_type": "code",
   "execution_count": null,
   "metadata": {},
   "outputs": [],
   "source": [
    "_ = seed_everything(111111)  # set random seeds manually"
   ]
  },
  {
   "cell_type": "markdown",
   "metadata": {},
   "source": [
    "## MNIST data"
   ]
  },
  {
   "cell_type": "code",
   "execution_count": null,
   "metadata": {},
   "outputs": [],
   "source": [
    "mnist = MNISTDataModule(\n",
    "    data_dir='../run/data/',\n",
    "    mean=None,\n",
    "    std=None,\n",
    "    batch_size=32\n",
    ")\n",
    "\n",
    "mnist.prepare_data()  # download data if not yet done\n",
    "mnist.setup(stage='test')  # create test set"
   ]
  },
  {
   "cell_type": "code",
   "execution_count": null,
   "metadata": {},
   "outputs": [],
   "source": [
    "test_loader = mnist.test_dataloader()\n",
    "x_batch, y_batch = next(iter(test_loader))"
   ]
  },
  {
   "cell_type": "code",
   "execution_count": null,
   "metadata": {},
   "outputs": [],
   "source": [
    "fig, axes = plt.subplots(nrows=3, ncols=4, figsize=(5, 4.5))\n",
    "for idx, ax in enumerate(axes.ravel()):\n",
    "    image = x_batch[idx, 0].numpy()\n",
    "    ax.imshow(image, cmap='gray', vmin=0, vmax=1)\n",
    "    ax.set_title(mnist.test_set.classes[y_batch[idx]])\n",
    "    ax.set(xticks=[], yticks=[], xlabel='', ylabel='')\n",
    "fig.tight_layout()"
   ]
  },
  {
   "cell_type": "markdown",
   "metadata": {},
   "source": [
    "## Two-dim. embedding"
   ]
  },
  {
   "cell_type": "code",
   "execution_count": null,
   "metadata": {},
   "outputs": [],
   "source": [
    "ckpt_file = '../run/mnist/version_0/checkpoints/best.ckpt'\n",
    "\n",
    "device = torch.device('cuda:0' if torch.cuda.is_available() else 'cpu')\n",
    "\n",
    "emb = ConvEmbedding.load_from_checkpoint(ckpt_file)\n",
    "\n",
    "emb = emb.eval()\n",
    "emb = emb.to(device)"
   ]
  },
  {
   "cell_type": "code",
   "execution_count": null,
   "metadata": {},
   "outputs": [],
   "source": [
    "embeddings, labels = embed_loader(\n",
    "    emb,\n",
    "    test_loader,\n",
    "    return_labels=True\n",
    ")"
   ]
  },
  {
   "cell_type": "code",
   "execution_count": null,
   "metadata": {},
   "outputs": [],
   "source": [
    "fig, ax = plt.subplots(figsize=(5, 5))\n",
    "for idx in range(10):\n",
    "    ax.scatter(\n",
    "        embeddings[labels==idx, 0][::2].numpy(),\n",
    "        embeddings[labels==idx, 1][::2].numpy(),\n",
    "        color=plt.cm.tab10(idx),\n",
    "        alpha=0.3,\n",
    "        edgecolors='none',\n",
    "        label='{}'.format(idx)\n",
    "    )\n",
    "ax.set_aspect('equal', adjustable='datalim')\n",
    "ax.legend(loc='center left')\n",
    "ax.grid(visible=True, which='both', color='lightgray', linestyle='-')\n",
    "ax.set_axisbelow(True)\n",
    "fig.tight_layout()"
   ]
  }
 ],
 "metadata": {
  "kernelspec": {
   "display_name": "torch",
   "language": "python",
   "name": "python3"
  },
  "language_info": {
   "codemirror_mode": {
    "name": "ipython",
    "version": 3
   },
   "file_extension": ".py",
   "mimetype": "text/x-python",
   "name": "python",
   "nbconvert_exporter": "python",
   "pygments_lexer": "ipython3",
   "version": "3.12.9"
  }
 },
 "nbformat": 4,
 "nbformat_minor": 2
}
